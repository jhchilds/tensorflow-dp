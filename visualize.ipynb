{
 "cells": [
  {
   "cell_type": "code",
   "execution_count": 32,
   "metadata": {},
   "outputs": [],
   "source": [
    "import pandas as pd\n",
    "import numpy as np\n",
    "import seaborn as sns\n",
    "import pickle\n",
    "import matplotlib.pyplot as plt"
   ]
  },
  {
   "cell_type": "code",
   "execution_count": 27,
   "metadata": {},
   "outputs": [],
   "source": [
    "results = pickle.load(open(\"results3.pickle\", \"rb\"))\n",
    "\n",
    "rhos = np.linspace(0.0000001, 0.00001, 100)\n",
    "\n",
    "epsilons = []\n",
    "for rho in rhos:\n",
    "    epsilon = rho + 2 * np.sqrt(rho * np.log(1 / 1e-5))\n",
    "    epsilons.append(epsilon)\n",
    "    \n",
    "results[\"epsilon\"] = epsilons\n",
    "\n",
    "results[\"baseline\"] = [0.97 for _ in range(len(epsilons))]\n"
   ]
  },
  {
   "cell_type": "code",
   "execution_count": 28,
   "metadata": {},
   "outputs": [],
   "source": [
    "df = pd.DataFrame(results)"
   ]
  },
  {
   "cell_type": "code",
   "execution_count": 29,
   "metadata": {},
   "outputs": [
    {
     "data": {
      "text/html": [
       "<div>\n",
       "<style scoped>\n",
       "    .dataframe tbody tr th:only-of-type {\n",
       "        vertical-align: middle;\n",
       "    }\n",
       "\n",
       "    .dataframe tbody tr th {\n",
       "        vertical-align: top;\n",
       "    }\n",
       "\n",
       "    .dataframe thead th {\n",
       "        text-align: right;\n",
       "    }\n",
       "</style>\n",
       "<table border=\"1\" class=\"dataframe\">\n",
       "  <thead>\n",
       "    <tr style=\"text-align: right;\">\n",
       "      <th></th>\n",
       "      <th>EpsilonDelta</th>\n",
       "      <th>Renyi</th>\n",
       "      <th>ZeroConc</th>\n",
       "      <th>Pure</th>\n",
       "      <th>epsilon</th>\n",
       "      <th>baseline</th>\n",
       "    </tr>\n",
       "  </thead>\n",
       "  <tbody>\n",
       "    <tr>\n",
       "      <th>0</th>\n",
       "      <td>0.1281</td>\n",
       "      <td>0.9669</td>\n",
       "      <td>0.8871</td>\n",
       "      <td>0.9246</td>\n",
       "      <td>0.002146</td>\n",
       "      <td>0.97</td>\n",
       "    </tr>\n",
       "    <tr>\n",
       "      <th>1</th>\n",
       "      <td>0.4826</td>\n",
       "      <td>0.9679</td>\n",
       "      <td>0.9258</td>\n",
       "      <td>0.8729</td>\n",
       "      <td>0.003035</td>\n",
       "      <td>0.97</td>\n",
       "    </tr>\n",
       "    <tr>\n",
       "      <th>2</th>\n",
       "      <td>0.6543</td>\n",
       "      <td>0.9695</td>\n",
       "      <td>0.9348</td>\n",
       "      <td>0.9387</td>\n",
       "      <td>0.003717</td>\n",
       "      <td>0.97</td>\n",
       "    </tr>\n",
       "    <tr>\n",
       "      <th>3</th>\n",
       "      <td>0.7156</td>\n",
       "      <td>0.9694</td>\n",
       "      <td>0.9392</td>\n",
       "      <td>0.9384</td>\n",
       "      <td>0.004292</td>\n",
       "      <td>0.97</td>\n",
       "    </tr>\n",
       "    <tr>\n",
       "      <th>4</th>\n",
       "      <td>0.8082</td>\n",
       "      <td>0.9698</td>\n",
       "      <td>0.9422</td>\n",
       "      <td>0.9439</td>\n",
       "      <td>0.004799</td>\n",
       "      <td>0.97</td>\n",
       "    </tr>\n",
       "    <tr>\n",
       "      <th>...</th>\n",
       "      <td>...</td>\n",
       "      <td>...</td>\n",
       "      <td>...</td>\n",
       "      <td>...</td>\n",
       "      <td>...</td>\n",
       "      <td>...</td>\n",
       "    </tr>\n",
       "    <tr>\n",
       "      <th>95</th>\n",
       "      <td>0.9530</td>\n",
       "      <td>0.9703</td>\n",
       "      <td>0.9690</td>\n",
       "      <td>0.9673</td>\n",
       "      <td>0.021036</td>\n",
       "      <td>0.97</td>\n",
       "    </tr>\n",
       "    <tr>\n",
       "      <th>96</th>\n",
       "      <td>0.9498</td>\n",
       "      <td>0.9720</td>\n",
       "      <td>0.9677</td>\n",
       "      <td>0.9657</td>\n",
       "      <td>0.021145</td>\n",
       "      <td>0.97</td>\n",
       "    </tr>\n",
       "    <tr>\n",
       "      <th>97</th>\n",
       "      <td>0.9509</td>\n",
       "      <td>0.9698</td>\n",
       "      <td>0.9688</td>\n",
       "      <td>0.9596</td>\n",
       "      <td>0.021254</td>\n",
       "      <td>0.97</td>\n",
       "    </tr>\n",
       "    <tr>\n",
       "      <th>98</th>\n",
       "      <td>0.9540</td>\n",
       "      <td>0.9702</td>\n",
       "      <td>0.9676</td>\n",
       "      <td>0.9606</td>\n",
       "      <td>0.021362</td>\n",
       "      <td>0.97</td>\n",
       "    </tr>\n",
       "    <tr>\n",
       "      <th>99</th>\n",
       "      <td>0.9552</td>\n",
       "      <td>0.9680</td>\n",
       "      <td>0.9676</td>\n",
       "      <td>0.9662</td>\n",
       "      <td>0.021470</td>\n",
       "      <td>0.97</td>\n",
       "    </tr>\n",
       "  </tbody>\n",
       "</table>\n",
       "<p>100 rows × 6 columns</p>\n",
       "</div>"
      ],
      "text/plain": [
       "    EpsilonDelta   Renyi  ZeroConc    Pure   epsilon  baseline\n",
       "0         0.1281  0.9669    0.8871  0.9246  0.002146      0.97\n",
       "1         0.4826  0.9679    0.9258  0.8729  0.003035      0.97\n",
       "2         0.6543  0.9695    0.9348  0.9387  0.003717      0.97\n",
       "3         0.7156  0.9694    0.9392  0.9384  0.004292      0.97\n",
       "4         0.8082  0.9698    0.9422  0.9439  0.004799      0.97\n",
       "..           ...     ...       ...     ...       ...       ...\n",
       "95        0.9530  0.9703    0.9690  0.9673  0.021036      0.97\n",
       "96        0.9498  0.9720    0.9677  0.9657  0.021145      0.97\n",
       "97        0.9509  0.9698    0.9688  0.9596  0.021254      0.97\n",
       "98        0.9540  0.9702    0.9676  0.9606  0.021362      0.97\n",
       "99        0.9552  0.9680    0.9676  0.9662  0.021470      0.97\n",
       "\n",
       "[100 rows x 6 columns]"
      ]
     },
     "execution_count": 29,
     "metadata": {},
     "output_type": "execute_result"
    }
   ],
   "source": [
    "df"
   ]
  },
  {
   "cell_type": "code",
   "execution_count": 43,
   "metadata": {},
   "outputs": [
    {
     "data": {
      "image/png": "[encoded data removed]",
      "text/plain": [
       "<Figure size 504x504 with 1 Axes>"
      ]
     },
     "metadata": {},
     "output_type": "display_data"
    }
   ],
   "source": [
    "sns.set(rc={\n",
    "    \"figure.figsize\": (7, 7)\n",
    "})\n",
    "ax = sns.lineplot(data=pd.melt(df, [\"epsilon\"]), x=\"epsilon\", y=\"value\", hue=\"variable\")\n",
    "\n",
    "ax.lines[4].set_linestyle(\"--\")\n",
    "\n",
    "plt.show()"
   ]
  },
  {
   "cell_type": "code",
   "execution_count": null,
   "metadata": {},
   "outputs": [],
   "source": []
  }
 ],
 "metadata": {
  "kernelspec": {
   "display_name": "Python 3",
   "language": "python",
   "name": "python3"
  },
  "language_info": {
   "codemirror_mode": {
    "name": "ipython",
    "version": 3
   },
   "file_extension": ".py",
   "mimetype": "text/x-python",
   "name": "python",
   "nbconvert_exporter": "python",
   "pygments_lexer": "ipython3",
   "version": "3.8.2"
  }
 },
 "nbformat": 4,
 "nbformat_minor": 4
}
